{
  "nbformat": 4,
  "nbformat_minor": 0,
  "metadata": {
    "colab": {
      "name": "AI-CA1.ipynb",
      "provenance": [],
      "collapsed_sections": [
        "GmiSM3UpyJen",
        "3E8pcpvgzqrL",
        "ZfFA0I8f9qCi",
        "ZXEXKBcFyGFL",
        "oe_SRZzNHnVU",
        "w7imVmWAHqQh",
        "UebLmzLEILLT",
        "EJajvatzINf2"
      ],
      "toc_visible": true
    },
    "kernelspec": {
      "name": "python3",
      "display_name": "Python 3"
    }
  },
  "cells": [
    {
      "cell_type": "markdown",
      "metadata": {
        "id": "nN96HFgf5hiE",
        "colab_type": "text"
      },
      "source": [
        "## imports"
      ]
    },
    {
      "cell_type": "code",
      "metadata": {
        "id": "j98g1Opu5jyY",
        "colab_type": "code",
        "colab": {}
      },
      "source": [
        "import operator\n",
        "import time\n",
        "import matplotlib.pyplot as plt"
      ],
      "execution_count": 0,
      "outputs": []
    },
    {
      "cell_type": "markdown",
      "metadata": {
        "id": "MWLalLmF49hY",
        "colab_type": "text"
      },
      "source": [
        "## read map"
      ]
    },
    {
      "cell_type": "code",
      "metadata": {
        "id": "K_GuVLuZ0ecU",
        "colab_type": "code",
        "outputId": "cfdd355f-fbbb-4554-ecb5-36a0dd341464",
        "colab": {
          "base_uri": "https://localhost:8080/",
          "height": 201
        }
      },
      "source": [
        "smap = open('test1').read()\n",
        "print(smap)"
      ],
      "execution_count": 298,
      "outputs": [
        {
          "output_type": "stream",
          "text": [
            "%%%%%%%%%%%%%\n",
            "%    %2%    %\n",
            "%   3Q      %\n",
            "% %%%%% %%%%%\n",
            "%1      % % %\n",
            "%%% %%  %1% %\n",
            "%    %    % %\n",
            "%3     P%   %\n",
            "% % %%%  %% %\n",
            "%   %1      %\n",
            "%%%%%%%%%%%%%\n"
          ],
          "name": "stdout"
        }
      ]
    },
    {
      "cell_type": "markdown",
      "metadata": {
        "id": "58np6Hh8spjV",
        "colab_type": "text"
      },
      "source": [
        "با استفاده از دستور اوپن نقشه ی داده شده در تست کیس ها را می خوانیم."
      ]
    },
    {
      "cell_type": "markdown",
      "metadata": {
        "id": "EJepKy2o5GVN",
        "colab_type": "text"
      },
      "source": [
        "## define rows and columns"
      ]
    },
    {
      "cell_type": "code",
      "metadata": {
        "id": "zga0mrN62kaP",
        "colab_type": "code",
        "colab": {}
      },
      "source": [
        "  row = 0\n",
        "  col = 0\n",
        "  colbool = False\n",
        "  for i in range(len(smap)):\n",
        "    if smap[i] == '\\n':\n",
        "      if colbool == False:\n",
        "        colbool = True\n",
        "        col = i\n",
        "      row += 1\n",
        "  row += 1\n",
        "  col += 1"
      ],
      "execution_count": 0,
      "outputs": []
    },
    {
      "cell_type": "markdown",
      "metadata": {
        "id": "JmnRRX2ZfDkM",
        "colab_type": "text"
      },
      "source": [
        "برای اینکه بتوانیم غذاها و دیوارها و ایجنت ها را مشخص کنیم نیاز به مختصات این المان ها داریم. برای اینکه بتوانیم مختصات آن ها را پیدا کنیم باید تعداد سطر و ستون نقشه مان را بدانیم. بنابراین در این تابع با استفاده از تعداد خط های جدید که در رشته ی نقشه ی خوانده شده از تست کیس ها آمده است تعداد سطر و ستون را پیدا می کنیم."
      ]
    },
    {
      "cell_type": "markdown",
      "metadata": {
        "id": "tnCeLA_g6I-O",
        "colab_type": "text"
      },
      "source": [
        "## define steps"
      ]
    },
    {
      "cell_type": "code",
      "metadata": {
        "id": "lHTTbWtG6Laz",
        "colab_type": "code",
        "colab": {}
      },
      "source": [
        "steps = [(1,0), (0,1), (-1,0), (0,-1)]"
      ],
      "execution_count": 0,
      "outputs": []
    },
    {
      "cell_type": "markdown",
      "metadata": {
        "id": "yeonnpDZfyKV",
        "colab_type": "text"
      },
      "source": [
        "برای اینکه در توابع جلوتر بتوانم خانه های کنار ایجنت ها را پیمایش کن باید مختصات آن ها را در هر مرحله یا ایکس یا ایگرگشان را به علاوه ی یک یا منفی یک کنم. برای اینکه بتوانم این کار را در حلقه ی تکرار انجام دهم آرایه ای از مرحله های مختلف تعریف کرده ام که روی این آرایه به ازای هر ایجنت پیمایش انجام دهم و ایجنت ها را به خانه های اطراف بفرستم. "
      ]
    },
    {
      "cell_type": "markdown",
      "metadata": {
        "id": "S9ubhp8dx04z",
        "colab_type": "text"
      },
      "source": [
        "## change string to coordinates"
      ]
    },
    {
      "cell_type": "code",
      "metadata": {
        "id": "AtvwTMVzFhaI",
        "colab_type": "code",
        "colab": {}
      },
      "source": [
        "def stringToCord(smap, mapp):\n",
        "  for i in range(len(smap)):\n",
        "    if smap[i] == '%':\n",
        "      mapp[int(i/col)][i%col] = 1\n",
        "  return mapp"
      ],
      "execution_count": 0,
      "outputs": []
    },
    {
      "cell_type": "markdown",
      "metadata": {
        "id": "KmYTFoU4tYOh",
        "colab_type": "text"
      },
      "source": [
        "زمانی که از فایل تست کیس ها vh میخوانیم به صورت رشته هستند. برای اینکه بتوانیم راحت تر نقشه را بخوانیم و از آن استفاده کنیم نوع آن را از رشته به آرایه ی دو بعدی از صفر یک ها (خانه های خالی و دیوارها) تبدیل می کنیم. که درواقع ایندکس آرایه همان مختصات دیوارها می شوند."
      ]
    },
    {
      "cell_type": "markdown",
      "metadata": {
        "id": "pW57-3nSx6cG",
        "colab_type": "text"
      },
      "source": [
        "## init mapp"
      ]
    },
    {
      "cell_type": "code",
      "metadata": {
        "id": "qJbCtE1kJpjG",
        "colab_type": "code",
        "colab": {}
      },
      "source": [
        "def initMap(mapp):\n",
        "  rows = []\n",
        "  for i in range(row):\n",
        "    for j in range(col-1):\n",
        "      rows.append(0)\n",
        "    mapp.append(rows)\n",
        "    rows = []\n",
        "  return mapp"
      ],
      "execution_count": 0,
      "outputs": []
    },
    {
      "cell_type": "markdown",
      "metadata": {
        "id": "WwZxLA9FuD-C",
        "colab_type": "text"
      },
      "source": [
        "برای دیوار ها یک آرایه ی دو بعدی در نظر گرفتم. آرایه ی دو بعدی از صفر و یک ها. جاهایی که دیوار هستند ۱ و خانه های خالی صفر هستند. برای اینکه بتوانیم صفر و یک ها را مشخص کنیم ابتدا یک نقشه ی خالی در نظر میگیریم که همه ی خانه هایش ۰ هستند. تا دیوارها را بعدا با یک پر کنیم."
      ]
    },
    {
      "cell_type": "markdown",
      "metadata": {
        "id": "_17s7CYrz1VW",
        "colab_type": "text"
      },
      "source": [
        "## define init state from smap"
      ]
    },
    {
      "cell_type": "code",
      "metadata": {
        "id": "80CPBGIJz04d",
        "colab_type": "code",
        "colab": {}
      },
      "source": [
        "food1, food2, food3, agents = [], [], [], []\n",
        "for i in range(len(smap)):\n",
        "  if smap[i] == '1':\n",
        "    food1.append((int(i/col), i%col))\n",
        "  elif smap[i] == '2':\n",
        "    food2.append((int(i/col), i%col))\n",
        "  elif smap[i] == '3':\n",
        "    food3.append((int(i/col), i%col))\n",
        "  elif smap[i] == 'P':\n",
        "    p = (int(i/col), i%col)\n",
        "  elif smap[i] == 'Q':\n",
        "    q = (int(i/col), i%col)\n",
        "agents.append(p)\n",
        "agents.append(q)"
      ],
      "execution_count": 0,
      "outputs": []
    },
    {
      "cell_type": "markdown",
      "metadata": {
        "id": "st2eaEKb4-_P",
        "colab_type": "text"
      },
      "source": [
        "روی نقشه ی خوانده شده پیمایش می کنیم و اگر عدد یک دیدیم یعنی میوه ی ایجنت اول است و در لیست مربوط به میوه ی ایجنت اول اضافه می کنیم. این کار را با میوه ی ایجنت دوم و میوه های مشترک و موقعیت ایجنت های اول و دوم انجام می دهیم."
      ]
    },
    {
      "cell_type": "markdown",
      "metadata": {
        "id": "DNOSc6XTxvWe",
        "colab_type": "text"
      },
      "source": [
        "## state class"
      ]
    },
    {
      "cell_type": "code",
      "metadata": {
        "id": "y9Zd-c2fBaiM",
        "colab_type": "code",
        "colab": {}
      },
      "source": [
        "class state:\n",
        "  def __init__(self, food1, food2, food3, agnts, cst):\n",
        "    self.food = []\n",
        "    self.food.append(food1)\n",
        "    self.food.append(food2)\n",
        "    self.pqFood = food3\n",
        "    self.agents = agnts\n",
        "    self.cost = cst\n",
        "    \n",
        "  def __eq__(self, st):\n",
        "    if st == None:\n",
        "      return False\n",
        "    if self.food == st.food and self.pqFood == st.pqFood and self.agents == st.agents:\n",
        "      return True\n",
        "    return False\n",
        "  \n",
        "  def __hash__(self):\n",
        "    return hash((str(self.food), str(self.pqFood), str(self.agents), str(self.cost)))\n",
        "    \n",
        "    \n",
        "  def inSharedFood(self, nextStep):\n",
        "    flag = False\n",
        "    for k in range(len(self.pqFood)):\n",
        "      if nextStep == self.pqFood[k]:\n",
        "        flag = True\n",
        "        break\n",
        "    if flag == True:\n",
        "      return True, k\n",
        "    return False, -1\n",
        "  \n",
        "  \n",
        "  def inFood(self, nextStep, i):\n",
        "    flag = False\n",
        "    for k in range(len(self.food[i])):\n",
        "      if nextStep == self.food[i][k]:\n",
        "        flag = True\n",
        "        break\n",
        "    if flag == True:\n",
        "      return True, k\n",
        "    return False, -1\n",
        "  \n",
        "  def goal(self):\n",
        "    if len(self.pqFood) == 0 and len(self.food[0]) == 0 and len(self.food[1]) == 0:\n",
        "      return True\n",
        "    return False\n",
        "  \n",
        "  def inExp(self, checklist):\n",
        "    flag = False\n",
        "    for i in checklist:\n",
        "      if i.food == self.food and i.pqFood == self.pqFood and i.agents == self.agents:\n",
        "        return True\n",
        "        break\n",
        "    if flag == True:\n",
        "      return True\n",
        "    return False\n",
        "  \n",
        "  def newAgent(self, nextStep, agnts, i):\n",
        "    if i == 0:\n",
        "      agnts.append(nextStep)\n",
        "      agnts.append(self.agents[1])\n",
        "    elif i == 1:\n",
        "      agnts.append(self.agents[0])\n",
        "      agnts.append(nextStep)\n",
        "    return agnts\n",
        "  \n",
        "  def expand(self):\n",
        "    neighs = []\n",
        "    \n",
        "    for i in range(len(self.agents)):\n",
        "      for j in steps:\n",
        "        nextStep = tuple(map(operator.add, self.agents[i], j))\n",
        "        \n",
        "        if mapp[nextStep[0]][nextStep[1]] == 1:\n",
        "          continue\n",
        "          \n",
        "        if nextStep == self.agents[(i+1)%2]:\n",
        "          continue\n",
        "\n",
        "        if nextStep in self.food[(i+1)%2]:\n",
        "          continue\n",
        "        \n",
        "        inSharedFood, k = self.inSharedFood(nextStep)\n",
        "        sharedFood = []\n",
        "        for f in self.pqFood:\n",
        "          sharedFood.append(f)\n",
        "        if inSharedFood:\n",
        "          sharedFood.pop(k)\n",
        "\n",
        "        inFood, k = self.inFood(nextStep, i)\n",
        "        hisFood = []\n",
        "        for f in self.food[i]:\n",
        "          hisFood.append(f)\n",
        "        if inFood:\n",
        "          hisFood.pop(k)\n",
        "        \n",
        "        agnts = []\n",
        "        agnts = self.newAgent(nextStep, agnts, i)\n",
        "        \n",
        "        if i == 0:\n",
        "          neigh = state(hisFood, self.food[1], sharedFood, agnts, self.cost+1)\n",
        "        elif i == 1:\n",
        "          neigh = state(self.food[0], hisFood, sharedFood, agnts, self.cost+1)\n",
        "        neighs.append(neigh)\n",
        "    \n",
        "    return neighs  "
      ],
      "execution_count": 0,
      "outputs": []
    },
    {
      "cell_type": "markdown",
      "metadata": {
        "id": "3q0_xtqq6xvk",
        "colab_type": "text"
      },
      "source": [
        "کلاسی تحت عنوان استیت دارم. در این کلاس یک لیستی دوتایی از لیست دارم. اسم این لیست فود است. در لیست اول فود دوتایی هایی نگه داشتم که مختصات میوه های ایجینت اول هستند و لیست دوم فود هم مربوط به دوتایی های مختصات میوه های ایجنت دوم است.\n",
        "یک لیست دیگر هم وجود دارد که در آن دوتایی های مختصات میوه های مشترک بین دو ایجنت نگه داری می شود.\n",
        "همچنین لیستی دارم به نام ایجنتس که در آن دو تا دوتایی نگه داشته می شود که دوتایی اول مربوط به موقعیت  ایجنت اول و دوتایی دوم مربوط به موقعیت ایجنت دوم است.\n",
        "همچنین هر استیت یک کاست هم دارد که به معنی آن است که چه قدر مسیر طی شده است تا به آن نود برسیم.\n",
        "\n",
        "این کلاس چند تا متود دارد که در ادامه به توضیح آن ها خواهم پرداخت."
      ]
    },
    {
      "cell_type": "markdown",
      "metadata": {
        "id": "GmiSM3UpyJen",
        "colab_type": "text"
      },
      "source": [
        "## BFS"
      ]
    },
    {
      "cell_type": "code",
      "metadata": {
        "id": "C8JMv9hMti-X",
        "colab_type": "code",
        "colab": {}
      },
      "source": [
        "def BFS():\n",
        "  \n",
        "  frontier = []\n",
        "  explored = {}\n",
        "  \n",
        "  sstate = state(food1, food2, food3, agents, 0)\n",
        "  \n",
        "  frontCounter = 0\n",
        "  \n",
        "  if sstate.goal():\n",
        "    print('len explored : ', len(explored))\n",
        "    print('num of pops from frontier: ', frontCounter)\n",
        "    return sstate.cost\n",
        "\n",
        "  frontier.append(sstate)\n",
        "  explored[sstate.__hash__()] = True\n",
        "  \n",
        "  counter = 0\n",
        "  while(True):\n",
        "    \n",
        "    if len(frontier) == 0:\n",
        "      print('len explored : ', len(explored))\n",
        "      print('num of pops from frontier: ', frontCounter)\n",
        "      return 'failier'\n",
        "    \n",
        "    currentState = frontier.pop(0)\n",
        "    frontCounter += 1\n",
        "    \n",
        "    children = currentState.expand()\n",
        "    \n",
        "    for i in range(len(children)):\n",
        "      if children[i].__hash__() in explored:\n",
        "        continue\n",
        "        \n",
        "      if children[i].goal():\n",
        "        print('len explored : ', len(explored))\n",
        "        print('num of pops from frontier: ', frontCounter)\n",
        "        return children[i].cost\n",
        "        \n",
        "      frontier.append(children[i])\n",
        "      explored[children[i].__hash__()] = True"
      ],
      "execution_count": 0,
      "outputs": []
    },
    {
      "cell_type": "markdown",
      "metadata": {
        "id": "SOsLdQYt_Ahp",
        "colab_type": "text"
      },
      "source": [
        "الگوریتم بی اف اس به این صورت است که ابتدا نود شروع را اکسپند می کند و تمام بچه های این نود را به فرانتیر ها (همان نودهای مرزی) اضافه می کند و سپس از سر فرانتیر (که مانند صف عمل میکند) یک نود دیگر برمیدارد و آن را اکسپند می کند. این روند را ادامه میدهد تا زمانی که به استیت هدف برسد. استیت هدف هم در پایین توضیح داده شده است. یا اینکه استیت هدف پیدا نکند و فیلیر برگرداند."
      ]
    },
    {
      "cell_type": "markdown",
      "metadata": {
        "id": "3E8pcpvgzqrL",
        "colab_type": "text"
      },
      "source": [
        "## IDS"
      ]
    },
    {
      "cell_type": "code",
      "metadata": {
        "id": "rUhBDPNqzs7p",
        "colab_type": "code",
        "colab": {}
      },
      "source": [
        "def IDDFS():\n",
        "  \n",
        "  d = 1\n",
        "  \n",
        "  sstate = state(food1, food2, food3, agents, 0)\n",
        "  \n",
        "  while(True):\n",
        "    explored = {}\n",
        "    s = DFS(sstate, d, explored)\n",
        "    \n",
        "    if s != 'failure':\n",
        "      print('len explored: ', len(explored))\n",
        "      return s\n",
        "    \n",
        "    d+=1\n",
        "\n",
        "def DFS(state, depth, explored):\n",
        "  if explored.get(state) != None and explored[state] >= depth:\n",
        "    return 'failure'\n",
        "  \n",
        "  explored[state] = depth\n",
        "  \n",
        "  if state.goal():\n",
        "    return state.cost\n",
        "    \n",
        "  if depth <= 0:\n",
        "    return 'failure'\n",
        "\n",
        "  children = state.expand()\n",
        "  for child in children:\n",
        "    res = DFS(child, depth - 1, explored)\n",
        "    if res is not 'failure':\n",
        "      return res\n",
        "  return 'failure'\n"
      ],
      "execution_count": 0,
      "outputs": []
    },
    {
      "cell_type": "markdown",
      "metadata": {
        "id": "xYOxW3qd_-Y5",
        "colab_type": "text"
      },
      "source": [
        "این الگوریتم شبیه الگوریتم دی اف اس است با این تفاوت که در آن یک عمقی وجود دارد که هر دفعه دی اف اس را تا آن عمق خاص ادامه می دهد. الگوریتم دی اف اس برعکس بی اف اس که ابتدا همه ی بچه های یک استیت را اکسپند میکند و سپس از سر صف فرانتیرها دونه دونه استیت ها را برمیدارد و اکسپند می کند، از همان ابتدا اولین بچه را که اکسپند کرد، دوباره خود همان بچه را اکسپند می کند.\n",
        "\n",
        "این الگوریتم به صورت بازگشتی زده شده است. بنابراین نیازی به صف یا استکی مانند فرانتیر نیست. هر دفعه به جای استیت اولیه استیت بچه اش را به الگوریتم میفرستیم.\n",
        "\n",
        "نکته ی قابل توجه در این جا این است که اگر برای این الگوریتم لیستی از اکسپلورد نگه داریم ممکن است این الگوریتم بهینه ترین جواب را ندهد. چون ممکن است در مثالی مسیر درست را انتخاب نکند.\n",
        "\n",
        "اما اگه اکسپلورد را نداشته باشیم و زمانی که وارد یک استیت میشویم آن را مارک نکنیم و توی اکسپلوردها نریزیم این الگوریتم ممکن است برای زمین ها و تست کیس های بزرگ اصلا تمام نشود و کامپلیت نباشد.\n",
        "\n",
        "در مثال زیر در صورت وجود آرایه ی اکسپلورد، بهینه ترین جواب به دست نمی آید."
      ]
    },
    {
      "cell_type": "markdown",
      "metadata": {
        "id": "ZfFA0I8f9qCi",
        "colab_type": "text"
      },
      "source": [
        "## A*"
      ]
    },
    {
      "cell_type": "code",
      "metadata": {
        "id": "Ln-_uRtA9sM8",
        "colab_type": "code",
        "colab": {}
      },
      "source": [
        "def heuristic(state):\n",
        "  man = [100, 100]\n",
        "  for j in range(len(state.agents)):\n",
        "    for i in state.food[j]:\n",
        "      if man[j] > abs(state.agents[j][0] - i[0]) + abs(state.agents[j][1] - i[1]):\n",
        "        man[j] = abs(state.agents[j][0] - i[0]) + abs(state.agents[j][1] - i[1])\n",
        "  for j in range(len(state.agents)):\n",
        "    for i in state.pqFood:\n",
        "      if man[j] > abs(state.agents[j][0] - i[0]) + abs(state.agents[j][1] - i[1]):\n",
        "          man[j] = abs(state.agents[j][0] - i[0]) + abs(state.agents[j][1] - i[1])\n",
        "\n",
        "  return min(man[0], man[1])\n",
        "\n",
        "\n",
        "\n",
        "def aStar():\n",
        "  frontier = []\n",
        "  explored = {}\n",
        "  \n",
        "  frontCounter = 0\n",
        "  sstate = state(food1, food2, food3, agents, 0)\n",
        "  \n",
        "  if sstate.goal():\n",
        "    print('len explored : ', len(explored))\n",
        "    print('num of pops from frontier: ', frontCounter)\n",
        "    return sstate.cost\n",
        "\n",
        "  frontier.append(sstate)\n",
        "  explored[sstate.__hash__()] = True\n",
        "  \n",
        "  while(True):\n",
        "    \n",
        "    if len(frontier) == 0:\n",
        "      print('len explored : ', len(explored))\n",
        "      print('num of pops from frontier: ', frontCounter)\n",
        "      return 'failier'\n",
        "    \n",
        "    efunc = []\n",
        "    for i in range(len(frontier)):\n",
        "      efunc.append(((heuristic(frontier[i]) + frontier[i].cost), i))\n",
        "    \n",
        "    currentState = frontier.pop(min(efunc)[1])\n",
        "    frontCounter += 1\n",
        "    \n",
        "\n",
        "    children = currentState.expand()\n",
        "    \n",
        "    for i in range(len(children)):\n",
        "      if children[i].__hash__() in explored:\n",
        "        continue\n",
        "        \n",
        "      if children[i].goal():\n",
        "        print('len explored : ', len(explored))\n",
        "        print('num of pops from frontier: ', frontCounter)\n",
        "        return children[i].cost\n",
        "        \n",
        "      frontier.append(children[i])\n",
        "      explored[children[i].__hash__()] = True"
      ],
      "execution_count": 0,
      "outputs": []
    },
    {
      "cell_type": "markdown",
      "metadata": {
        "id": "Nwp_ibJiFJpz",
        "colab_type": "text"
      },
      "source": [
        "این الگوریتم شبیه الگوریتم بی اف اس عمل می کند. تنها تفاوتی که وجود دارد این است که در الگوریتم بی اف اس زمانی که میخواستیم از لیست فرانتیرها بچه ی بعدی را انتخاب کنیم که اکسپند کنیم از سیاست فایفو استفاده میکنیم. اما در این الگوریتم سرچ بر اساس تابع هیوریستیکی که نوشتیم بچه ی بعدی انتخاب می شود. درواقع هر بچه ای که تابع هیوریستیک آن از همه کمتر باشد آن بچه برای اکسپند شدن انتخاب می شود.\n",
        "\n",
        "در تابع هیوریستیک انتخاب شده فاصله ی منهتن بین ایجنت ها و میوه هایی که آن ایجنت می تواند بخورد را حساب می کنیم و بین آن ها ماکسیمم را میگیریم. سپس این فاصله ی بدست آمده در ایجنت اول را با فاصله ی بدست آمده برای ایجنت دوم مقایسه می کنم و مینیمم آن را انتخاب می کنیم.\n",
        "\n",
        "این هیوریستیک ادمیسبل است زیرا فاصله ی بدست آمده از فاصله ی واقعی کوچکتر مساوی است."
      ]
    },
    {
      "cell_type": "markdown",
      "metadata": {
        "id": "ZXEXKBcFyGFL",
        "colab_type": "text"
      },
      "source": [
        "## main"
      ]
    },
    {
      "cell_type": "code",
      "metadata": {
        "id": "FAvgGArb40rm",
        "colab_type": "code",
        "outputId": "c49b233b-3fdb-42af-c8ab-66fe132257ce",
        "colab": {
          "base_uri": "https://localhost:8080/",
          "height": 67
        }
      },
      "source": [
        "mapp = []\n",
        "mapp =initMap(mapp)\n",
        "mapp = stringToCord(smap, mapp)\n",
        "\n",
        "start_time = time.time()\n",
        "# print(BFS())\n",
        "\n",
        "print(IDDFS())\n",
        "\n",
        "# print(aStar())\n",
        "print (\"time.time(): %s \" % ( time.time() - start_time))"
      ],
      "execution_count": 307,
      "outputs": [
        {
          "output_type": "stream",
          "text": [
            "len explored:  475153\n",
            "33\n",
            "time.time(): 325.2907679080963 \n"
          ],
          "name": "stdout"
        }
      ]
    },
    {
      "cell_type": "markdown",
      "metadata": {
        "id": "ngiM9_ul8WTH",
        "colab_type": "text"
      },
      "source": [
        "برای مدل کردن این مسئله به یک مسئله ی سرچ در ابتدا زمانی که از نقشه همه موقعیت ها را خواندیم یک استیت برای آن درست می کنیم.\n",
        "\n",
        "همانطوری که در کلاس استیت توضیح داده شد ورودی های لازم در استیت شروع از نقشه می خوانیم و یک استیت جدید میسازیم. این استیت میشود استیت شروع ما. سپس این استیت را به الگوریتم های مختلف می دهیم و تا زمانی که به هدف برسند سرچ می کنند.\n",
        "\n",
        "استیت هدف استیتی است که در آن تمام لیست هایی که در آن انواع میوه وجود دارد تمام شده باشد. یعنی لیست میوه های ایجنت اول و دوم و مشترک خالی باشد. این استیت استیت نهایی است. در این حالت هزینه ای که آن استیت دارد را برمی گردانیم.\n",
        "\n",
        "لیستی به نام فرانتیر دارم که در آن تمام استیت هایی که مرزی هستند و هنوز دیده نشده اند را نگه می دارم. یعنی یک استیت را اکسپند میکنم و در صورتی که  شرایط  مساعد باشد به فرانتیرها اضافه میکنم. \n",
        "اکسپند به این معنی است که حداکثر ۸ حالت اطراف ایجنت اول و دوم چک می شود که مساعد هستند یا نه. یعنی بالا و پایین و چپ و راست ایجنت های اول و دوم.\n",
        "مساعد بودن به این معنی است که دیوار نباشد و میوه ی ایجنت دیگر (که سم محسوب میشود) نباشد و خود ایجنت دیگر هم در آن خانه نباشد.\n",
        "\n",
        "اکشن ها هم همین چک کردن اطراف و رفتن به خانه های مساعد و اکسپند کردن آن خانه ها می شود."
      ]
    },
    {
      "cell_type": "markdown",
      "metadata": {
        "id": "_7RgiCKdHj6c",
        "colab_type": "text"
      },
      "source": [
        "## Info"
      ]
    },
    {
      "cell_type": "markdown",
      "metadata": {
        "id": "oe_SRZzNHnVU",
        "colab_type": "text"
      },
      "source": [
        "### BFS"
      ]
    },
    {
      "cell_type": "markdown",
      "metadata": {
        "id": "h-x2w4oLHv1F",
        "colab_type": "text"
      },
      "source": [
        "#### time"
      ]
    },
    {
      "cell_type": "markdown",
      "metadata": {
        "id": "r0laTQPt6GN6",
        "colab_type": "text"
      },
      "source": [
        "mean1(36.1340, 36.2729, 36.3500) = 36.2523\n",
        "\n",
        "mean2(0.3849, 0.3641, 0.4229) = 0.3906\n",
        "\n",
        "mean3(0.3453, 0.3663, 0.3695) = 0.3603\n",
        "\n",
        "mean4(0.9439, 0.9854, 0.9379) = 0.9557\n",
        "\n",
        "mean5(0.0314, 0.0378, 0.0408) = 0.0366\n"
      ]
    },
    {
      "cell_type": "markdown",
      "metadata": {
        "id": "8PNkSt4kH3dY",
        "colab_type": "text"
      },
      "source": [
        "#### depth"
      ]
    },
    {
      "cell_type": "markdown",
      "metadata": {
        "id": "izQCZsIfH7e-",
        "colab_type": "text"
      },
      "source": [
        "test1: 33\n",
        "\n",
        "test2: 17\n",
        "\n",
        "test3: 20\n",
        "\n",
        "test4: 17\n",
        "\n",
        "test5: 13"
      ]
    },
    {
      "cell_type": "markdown",
      "metadata": {
        "colab_type": "text",
        "id": "mQEg9CddYX5L"
      },
      "source": [
        "#### len explored"
      ]
    },
    {
      "cell_type": "markdown",
      "metadata": {
        "colab_type": "text",
        "id": "tUngQs6PYX5P"
      },
      "source": [
        "test1: 683959\n",
        "\n",
        "test2: 9434\n",
        "\n",
        "test3: 9480\n",
        "\n",
        "test4: 24032\n",
        "\n",
        "test5: 866"
      ]
    },
    {
      "cell_type": "markdown",
      "metadata": {
        "colab_type": "text",
        "id": "fskrqTMWYe9I"
      },
      "source": [
        "#### num of pops from frontier"
      ]
    },
    {
      "cell_type": "markdown",
      "metadata": {
        "colab_type": "text",
        "id": "33ih3DTpYe9P"
      },
      "source": [
        "test1: 606291\n",
        "\n",
        "test2: 7446\n",
        "\n",
        "test3: 8018\n",
        "\n",
        "test4: 18106\n",
        "\n",
        "test5: 648"
      ]
    },
    {
      "cell_type": "markdown",
      "metadata": {
        "id": "w7imVmWAHqQh",
        "colab_type": "text"
      },
      "source": [
        "### IDS"
      ]
    },
    {
      "cell_type": "markdown",
      "metadata": {
        "id": "VKJJ5WoJH0NC",
        "colab_type": "text"
      },
      "source": [
        "#### time"
      ]
    },
    {
      "cell_type": "markdown",
      "metadata": {
        "id": "7-9SpIDp8y1D",
        "colab_type": "text"
      },
      "source": [
        "mean1(320.9857, 311.7805, 305.7745) = 312.8469\n",
        "\n",
        "mean2(1.8469, 1.8474, 1.8573) = 1.8505\n",
        "\n",
        "mean3(2.4361, 2.4598, 2.4167) = 2.4375\n",
        "\n",
        "mean4(4.6936, 4.7008, 4.6005) = 4.6649\n",
        "\n",
        "mean5(0.1495, 0.1655, 0.1454) = 0.1534"
      ]
    },
    {
      "cell_type": "markdown",
      "metadata": {
        "id": "jtnJAilLIFHr",
        "colab_type": "text"
      },
      "source": [
        "#### depth"
      ]
    },
    {
      "cell_type": "markdown",
      "metadata": {
        "id": "hytzeiL4IHu3",
        "colab_type": "text"
      },
      "source": [
        "test1: 33\n",
        "\n",
        "test2: 17\n",
        "\n",
        "test3: 20\n",
        "\n",
        "test4: 17\n",
        "\n",
        "test5: 13"
      ]
    },
    {
      "cell_type": "markdown",
      "metadata": {
        "colab_type": "text",
        "id": "JqOAtQF7Yi-M"
      },
      "source": [
        "#### len explored"
      ]
    },
    {
      "cell_type": "markdown",
      "metadata": {
        "colab_type": "text",
        "id": "E8L4T_OvYi-S"
      },
      "source": [
        "test1: 475153\n",
        "\n",
        "test2: 6317\n",
        "\n",
        "test3: 8872\n",
        "\n",
        "test4: 8162\n",
        "\n",
        "test5: 748"
      ]
    },
    {
      "cell_type": "markdown",
      "metadata": {
        "id": "eiY3kEVxHsq1",
        "colab_type": "text"
      },
      "source": [
        "### A*"
      ]
    },
    {
      "cell_type": "markdown",
      "metadata": {
        "id": "UebLmzLEILLT",
        "colab_type": "text"
      },
      "source": [
        "#### time"
      ]
    },
    {
      "cell_type": "markdown",
      "metadata": {
        "id": "qUwNnaIk7Bx9",
        "colab_type": "text"
      },
      "source": [
        "mean1() = \n",
        "\n",
        "mean2(34.4324, 33.2095, 31.7512) = 33.1310\n",
        "\n",
        "mean3(22.4963, 22.4997, 21.8200) = 22.2720\n",
        "\n",
        "mean4(87.4134, 84.4538, 83.3936) = 85.0869\n",
        "\n",
        "mean5(0.2196, 0.2306, 0.2359) = 0.2287"
      ]
    },
    {
      "cell_type": "markdown",
      "metadata": {
        "id": "EJajvatzINf2",
        "colab_type": "text"
      },
      "source": [
        "#### depth"
      ]
    },
    {
      "cell_type": "markdown",
      "metadata": {
        "id": "qo48gm4DIPNb",
        "colab_type": "text"
      },
      "source": [
        "test1:\n",
        "\n",
        "test2: 17\n",
        "\n",
        "test3: 20\n",
        "\n",
        "test4: 17\n",
        "\n",
        "test5: 13"
      ]
    },
    {
      "cell_type": "markdown",
      "metadata": {
        "id": "cyu0gTbnXRu4",
        "colab_type": "text"
      },
      "source": [
        "#### len explored"
      ]
    },
    {
      "cell_type": "markdown",
      "metadata": {
        "id": "ounfe19fXVuF",
        "colab_type": "text"
      },
      "source": [
        "test1:\n",
        "\n",
        "test2: 8197\n",
        "\n",
        "test3: 7259\n",
        "\n",
        "test4: 12702\n",
        "\n",
        "test5: 682"
      ]
    },
    {
      "cell_type": "markdown",
      "metadata": {
        "id": "dKnArpX0XWMN",
        "colab_type": "text"
      },
      "source": [
        "#### num of pops from frontier"
      ]
    },
    {
      "cell_type": "markdown",
      "metadata": {
        "id": "vqeb-uu8XaGD",
        "colab_type": "text"
      },
      "source": [
        "test1:\n",
        "\n",
        "test2: 5486\n",
        "\n",
        "test3: 5055\n",
        "\n",
        "test4: 7355\n",
        "\n",
        "test5: 452"
      ]
    },
    {
      "cell_type": "markdown",
      "metadata": {
        "id": "V-By7ZJHhszT",
        "colab_type": "text"
      },
      "source": [
        "در مقایسه ی بین این سه الگوریتم می توان گفت که اگر تابع هیوریستیک الگوریتم آ استار خوب باشد به این دلیل که درخت را به خوبی هرس میکند و نیازی نیست همه نودها را چک کنیم بسیار سریع خواهد بود. اما اگر هیوریستیک آن خوب نباشد بی اف اس از آن بهتر خواهد بود.\n",
        "از نظر حافظه هم بی اف اس و آاستار هم اوردر هستند. اما آی دی اس حافظه ی کمتری می گیرد. درواقع چیزی نگه نمیدارد (اینکه ویزیتد را نگه داریم به این دلیل است که برنامه خاتمه یابد وگرنه در الگوریتم اصلی آی دی اس ویزیتد هم نگه داری نمی شود). آی دی اس از همه کندتر است. زیرا اوردر آن نسبت به بقیه بالاتر است. درواقع اگر برنچینگ فاکتور بالا برود ممکن است این الگوریتم زمان بسیار زیادی نیاز داشته باشد تا کامل شود."
      ]
    },
    {
      "cell_type": "markdown",
      "metadata": {
        "id": "Eaag6w4a7a3S",
        "colab_type": "text"
      },
      "source": [
        "## Plots"
      ]
    },
    {
      "cell_type": "markdown",
      "metadata": {
        "id": "hIMuGInZ7fnL",
        "colab_type": "text"
      },
      "source": [
        "### BFS"
      ]
    },
    {
      "cell_type": "code",
      "metadata": {
        "id": "ojNhUni07LWp",
        "colab_type": "code",
        "colab": {
          "base_uri": "https://localhost:8080/",
          "height": 285
        },
        "outputId": "570d9000-d74e-47e6-ab72-68f936d39a90"
      },
      "source": [
        "time = [0.0366, 0.3906, 0.9557, 0.3603, 36.2523]\n",
        "depth = [13, 17, 17, 20, 33]\n",
        "plt.plot(depth, time)\n"
      ],
      "execution_count": 308,
      "outputs": [
        {
          "output_type": "execute_result",
          "data": {
            "text/plain": [
              "[<matplotlib.lines.Line2D at 0x7fc93f5abfd0>]"
            ]
          },
          "metadata": {
            "tags": []
          },
          "execution_count": 308
        },
        {
          "output_type": "display_data",
          "data": {
            "image/png": "[encoded data removed]",
            "text/plain": [
              "<Figure size 432x288 with 1 Axes>"
            ]
          },
          "metadata": {
            "tags": []
          }
        }
      ]
    },
    {
      "cell_type": "markdown",
      "metadata": {
        "id": "-74-SpcCC4Zq",
        "colab_type": "text"
      },
      "source": [
        "### IDDFS"
      ]
    },
    {
      "cell_type": "code",
      "metadata": {
        "id": "JCDF7KpoC7Ro",
        "colab_type": "code",
        "colab": {
          "base_uri": "https://localhost:8080/",
          "height": 285
        },
        "outputId": "6a17cf21-c5b2-4310-c2c5-6d286a56801c"
      },
      "source": [
        "time = [0.1534, 1.8505, 4.6649, 2.4375, 312.8469]\n",
        "depth = [13, 17, 17, 20, 33]\n",
        "plt.plot(depth, time)"
      ],
      "execution_count": 309,
      "outputs": [
        {
          "output_type": "execute_result",
          "data": {
            "text/plain": [
              "[<matplotlib.lines.Line2D at 0x7fc93b8a5630>]"
            ]
          },
          "metadata": {
            "tags": []
          },
          "execution_count": 309
        },
        {
          "output_type": "display_data",
          "data": {
            "image/png": "[encoded data removed]",
            "text/plain": [
              "<Figure size 432x288 with 1 Axes>"
            ]
          },
          "metadata": {
            "tags": []
          }
        }
      ]
    },
    {
      "cell_type": "markdown",
      "metadata": {
        "id": "1En8R-1o9-Lp",
        "colab_type": "text"
      },
      "source": [
        "### A*"
      ]
    },
    {
      "cell_type": "code",
      "metadata": {
        "id": "6yP6Un3h9_V0",
        "colab_type": "code",
        "colab": {
          "base_uri": "https://localhost:8080/",
          "height": 285
        },
        "outputId": "5892d13f-fa27-4bca-ceb5-651f08c6e885"
      },
      "source": [
        "time = [0.2287, 33.1310, 85.0869, 22.2720]\n",
        "depth = [13, 17, 17, 20]\n",
        "plt.plot(depth, time)"
      ],
      "execution_count": 310,
      "outputs": [
        {
          "output_type": "execute_result",
          "data": {
            "text/plain": [
              "[<matplotlib.lines.Line2D at 0x7fc942482780>]"
            ]
          },
          "metadata": {
            "tags": []
          },
          "execution_count": 310
        },
        {
          "output_type": "display_data",
          "data": {
            "image/png": "[encoded data removed]",
            "text/plain": [
              "<Figure size 432x288 with 1 Axes>"
            ]
          },
          "metadata": {
            "tags": []
          }
        }
      ]
    }
  ]
}